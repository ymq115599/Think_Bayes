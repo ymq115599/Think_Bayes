{
 "cells": [
  {
   "cell_type": "code",
   "execution_count": null,
   "metadata": {
    "collapsed": true
   },
   "outputs": [],
   "source": [
    "\"\"\"This file contains code for use with \"Think Bayes\",\n",
    "by Allen B. Downey, available from greenteapress.com\n",
    "\n",
    "Copyright 2012 Allen B. Downey\n",
    "License: GNU GPLv3 http://www.gnu.org/licenses/gpl.html\n",
    "\"\"\"\n",
    "\n",
    "\"\"\"This file contains a partial solution to a problem from\n",
    "MacKay, \"Information Theory, Inference, and Learning Algorithms.\"\n",
    "\n",
    "    Exercise 3.15 (page 50): A statistical statement appeared in\n",
    "    \"The Guardian\" on Friday January 4, 2002:\n",
    "\n",
    "        When spun on edge 250 times, a Belgian one-euro coin came\n",
    "        up heads 140 times and tails 110.  'It looks very suspicious\n",
    "        to me,' said Barry Blight, a statistics lecturer at the London\n",
    "        School of Economics.  'If the coin were unbiased, the chance of\n",
    "        getting a result as extreme as that would be less than 7%.'\n",
    "\n",
    "MacKay asks, \"But do these data give evidence that the coin is biased\n",
    "rather than fair?\"\n",
    "\n",
    "\"\"\""
   ]
  },
  {
   "cell_type": "code",
   "execution_count": null,
   "metadata": {
    "collapsed": true
   },
   "outputs": [],
   "source": [
    "import thinkbayes\n",
    "import thinkplot"
   ]
  },
  {
   "cell_type": "code",
   "execution_count": null,
   "metadata": {
    "collapsed": true
   },
   "outputs": [],
   "source": [
    "class Euro(thinkbayes.Suite):\n",
    "    \"\"\"Represents hypotheses about the probability of heads.\"\"\"\n",
    "\n",
    "    def Likelihood(self, data, hypo):\n",
    "        \"\"\"Computes the likelihood of the data under the hypothesis.\n",
    "\n",
    "        hypo: integer value of x, the probability of heads (0-100)\n",
    "        data: string 'H' or 'T'\n",
    "        \"\"\"\n",
    "        x = hypo / 100.0\n",
    "        if data == 'H':\n",
    "            return x\n",
    "        else:\n",
    "            return 1-x"
   ]
  },
  {
   "cell_type": "code",
   "execution_count": null,
   "metadata": {
    "collapsed": true
   },
   "outputs": [],
   "source": [
    "class Euro2(thinkbayes.Suite):\n",
    "    \"\"\"Represents hypotheses about the probability of heads.\"\"\"\n",
    "\n",
    "    def Likelihood(self, data, hypo):\n",
    "        \"\"\"Computes the likelihood of the data under the hypothesis.\n",
    "\n",
    "        hypo: integer value of x, the probability of heads (0-100)\n",
    "        data: tuple of (number of heads, number of tails)\n",
    "        \"\"\"\n",
    "        x = hypo / 100.0\n",
    "        heads, tails = data\n",
    "        like = x**heads * (1-x)**tails\n",
    "        return like"
   ]
  },
  {
   "cell_type": "code",
   "execution_count": null,
   "metadata": {
    "collapsed": true
   },
   "outputs": [],
   "source": [
    "def UniformPrior():\n",
    "    \"\"\"Makes a Suite with a uniform prior.\"\"\"\n",
    "    suite = Euro(xrange(0, 101))\n",
    "    return suite\n",
    "\n",
    "\n",
    "def TrianglePrior():\n",
    "    \"\"\"Makes a Suite with a triangular prior.\"\"\"\n",
    "    suite = Euro()\n",
    "    for x in range(0, 51):\n",
    "        suite.Set(x, x)\n",
    "    for x in range(51, 101):\n",
    "        suite.Set(x, 100-x) \n",
    "    suite.Normalize()\n",
    "    return suite\n",
    "\n",
    "\n",
    "def RunUpdate(suite, heads=140, tails=110):\n",
    "    \"\"\"Updates the Suite with the given number of heads and tails.\n",
    "\n",
    "    suite: Suite object\n",
    "    heads: int\n",
    "    tails: int\n",
    "    \"\"\"\n",
    "    dataset = 'H' * heads + 'T' * tails\n",
    "\n",
    "    for data in dataset:\n",
    "        suite.Update(data)\n",
    "\n",
    "\n",
    "def Summarize(suite):\n",
    "    \"\"\"Prints summary statistics for the suite.\"\"\"\n",
    "    print suite.Prob(50)\n",
    "\n",
    "    print 'MLE', suite.MaximumLikelihood()\n",
    "\n",
    "    print 'Mean', suite.Mean()\n",
    "    print 'Median', thinkbayes.Percentile(suite, 50) \n",
    "\n",
    "    print '5th %ile', thinkbayes.Percentile(suite, 5) \n",
    "    print '95th %ile', thinkbayes.Percentile(suite, 95) \n",
    "\n",
    "    print 'CI', thinkbayes.CredibleInterval(suite, 90)\n",
    "\n",
    "\n",
    "def PlotSuites(suites, root):\n",
    "    \"\"\"Plots two suites.\n",
    "\n",
    "    suite1, suite2: Suite objects\n",
    "    root: string filename to write\n",
    "    \"\"\"\n",
    "    thinkplot.Clf()\n",
    "    thinkplot.PrePlot(len(suites))\n",
    "    thinkplot.Pmfs(suites)\n",
    "\n",
    "    thinkplot.Save(root=root,\n",
    "                   xlabel='x',\n",
    "                   ylabel='Probability',\n",
    "                   formats=['pdf', 'eps'])\n",
    "\n",
    "\n",
    "def main():\n",
    "    # make the priors\n",
    "    suite1 = UniformPrior()\n",
    "    suite1.name = 'uniform'\n",
    "\n",
    "    suite2 = TrianglePrior()\n",
    "    suite2.name = 'triangle'\n",
    "\n",
    "    # plot the priors\n",
    "    PlotSuites([suite1, suite2], 'euro2')\n",
    "\n",
    "    # update\n",
    "    RunUpdate(suite1)\n",
    "    Summarize(suite1)\n",
    "\n",
    "    RunUpdate(suite2)\n",
    "    Summarize(suite2)\n",
    "\n",
    "    # plot the posteriors\n",
    "    PlotSuites([suite1], 'euro1')\n",
    "    PlotSuites([suite1, suite2], 'euro3')\n",
    "\n",
    "\n",
    "if __name__ == '__main__':\n",
    "    main()"
   ]
  }
 ],
 "metadata": {
  "kernelspec": {
   "display_name": "Python 2",
   "language": "python",
   "name": "python2"
  },
  "language_info": {
   "codemirror_mode": {
    "name": "ipython",
    "version": 2
   },
   "file_extension": ".py",
   "mimetype": "text/x-python",
   "name": "python",
   "nbconvert_exporter": "python",
   "pygments_lexer": "ipython2",
   "version": "2.7.13"
  }
 },
 "nbformat": 4,
 "nbformat_minor": 2
}
